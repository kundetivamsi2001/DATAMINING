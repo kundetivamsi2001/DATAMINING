{
 "cells": [
  {
   "cell_type": "code",
   "execution_count": 23,
   "id": "9e50da05",
   "metadata": {},
   "outputs": [
    {
     "name": "stdout",
     "output_type": "stream",
     "text": [
      "[[1.  1. ]\n",
      " [1.5 2. ]\n",
      " [3.  4. ]\n",
      " [5.  7. ]\n",
      " [3.  5.5]\n",
      " [4.5 5. ]\n",
      " [3.5 4.5]]\n",
      "\n",
      " clusters [[3.8  5.2 ]\n",
      " [1.25 1.5 ]]\n",
      "\n",
      " labels [1 1 0 0 0 0 0]\n"
     ]
    },
    {
     "data": {
      "text/plain": [
       "<matplotlib.collections.PathCollection at 0x7fed2ad664e0>"
      ]
     },
     "execution_count": 23,
     "metadata": {},
     "output_type": "execute_result"
    },
    {
     "data": {
      "image/png": "[encoded data removed]",
      "text/plain": [
       "<Figure size 432x288 with 1 Axes>"
      ]
     },
     "metadata": {
      "needs_background": "light"
     },
     "output_type": "display_data"
    }
   ],
   "source": [
    "import numpy as np\n",
    "import pandas as pd\n",
    "import matplotlib.pyplot as plt\n",
    "from sklearn.cluster import KMeans\n",
    "X=np.array([[1,1],[1.5,2],[3,4],[5,7],[3,5.5],[4.5,5],[3.5,4.5]])\n",
    "print(X)\n",
    "plt.scatter(X[:,0],X[:,1])\n",
    "kmeans=KMeans(n_clusters=2)\n",
    "kmeans.fit(X)\n",
    "print(\"\\n clusters\",kmeans.cluster_centers_)\n",
    "print(\"\\n labels\",kmeans.labels_)\n",
    "plt.title(\"KMEANS CLUSTERING\")\n",
    "plt.scatter(X[:,0],X[:,1],c=kmeans.labels_,cmap=\"rainbow\")"
   ]
  },
  {
   "cell_type": "code",
   "execution_count": null,
   "id": "158762fd",
   "metadata": {},
   "outputs": [],
   "source": []
  },
  {
   "cell_type": "code",
   "execution_count": null,
   "id": "1c540ac1",
   "metadata": {},
   "outputs": [],
   "source": []
  },
  {
   "cell_type": "code",
   "execution_count": null,
   "id": "8dd832aa",
   "metadata": {},
   "outputs": [],
   "source": []
  },
  {
   "cell_type": "code",
   "execution_count": null,
   "id": "ecd8a02f",
   "metadata": {},
   "outputs": [],
   "source": []
  },
  {
   "cell_type": "code",
   "execution_count": null,
   "id": "71c23888",
   "metadata": {},
   "outputs": [],
   "source": []
  }
 ],
 "metadata": {
  "kernelspec": {
   "display_name": "Python 3",
   "language": "python",
   "name": "python3"
  },
  "language_info": {
   "codemirror_mode": {
    "name": "ipython",
    "version": 3
   },
   "file_extension": ".py",
   "mimetype": "text/x-python",
   "name": "python",
   "nbconvert_exporter": "python",
   "pygments_lexer": "ipython3",
   "version": "3.6.9"
  }
 },
 "nbformat": 4,
 "nbformat_minor": 5
}
